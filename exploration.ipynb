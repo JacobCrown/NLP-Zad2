{
  "cells": [
    {
      "cell_type": "markdown",
      "id": "11d5afc8-8486-45f2-b2b1-5b1d7aa7135e",
      "metadata": {
        "id": "11d5afc8-8486-45f2-b2b1-5b1d7aa7135e"
      },
      "source": [
        "## Init"
      ]
    },
    {
      "cell_type": "code",
      "execution_count": null,
      "id": "f5a18fab-8c9c-47b5-815e-5aea6f853959",
      "metadata": {
        "id": "f5a18fab-8c9c-47b5-815e-5aea6f853959"
      },
      "outputs": [],
      "source": [
        "import torch\n",
        "from torch.nn import functional as F\n",
        "from transformers import AutoModelForCausalLM, AutoTokenizer, AutoModel, AutoModelForTokenClassification\n",
        "from tabulate import tabulate\n",
        "from tqdm import tqdm, trange\n",
        "from copy import deepcopy\n",
        "import numpy as np\n",
        "from collections import Counter"
      ]
    },
    {
      "cell_type": "markdown",
      "id": "24ddef26-399f-4798-a1e1-a10b59896077",
      "metadata": {
        "id": "24ddef26-399f-4798-a1e1-a10b59896077"
      },
      "source": [
        "## Helper Functions"
      ]
    },
    {
      "cell_type": "code",
      "execution_count": null,
      "id": "0486a4d3-6094-4699-a2df-13c841910e6d",
      "metadata": {
        "id": "0486a4d3-6094-4699-a2df-13c841910e6d"
      },
      "outputs": [],
      "source": [
        "ALNUM_CHARSET = set('abcdefghijklmnopqrstuvwxyzABCDEFGHIJKLMNOPQRSTUVWXYZ0123456789')\n",
        "\n",
        "def convert_to_tokens(indices, tokenizer, extended=False, extra_values_pos=None, strip=True):\n",
        "    if extended:\n",
        "        res = [tokenizer.convert_ids_to_tokens([idx])[0] if idx < len(tokenizer) else\n",
        "               (f\"[pos{idx-len(tokenizer)}]\" if idx < extra_values_pos else f\"[val{idx-extra_values_pos}]\")\n",
        "               for idx in indices]\n",
        "    else:\n",
        "        res = tokenizer.convert_ids_to_tokens(indices)\n",
        "    if strip:\n",
        "        res = list(map(lambda x: x[1:] if x[0] == 'Ġ' else \"#\" + x, res))\n",
        "    return res\n",
        "\n",
        "\n",
        "def top_tokens(v, k=100, tokenizer=None, only_alnum=False, only_ascii=True, with_values=False,\n",
        "               exclude_brackets=False, extended=True, extra_values=None, only_from_list=None):\n",
        "    if tokenizer is None:\n",
        "        tokenizer = my_tokenizer\n",
        "    v = deepcopy(v)\n",
        "    ignored_indices = []\n",
        "    if only_ascii:\n",
        "        ignored_indices.extend([key for val, key in tokenizer.vocab.items() if not val.strip('Ġ▁').isascii()])\n",
        "    if only_alnum:\n",
        "        ignored_indices.extend([key for val, key in tokenizer.vocab.items() if not (set(val.strip('Ġ▁[] ')) <= ALNUM_CHARSET)])\n",
        "    if only_from_list:\n",
        "        ignored_indices.extend([key for val, key in tokenizer.vocab.items() if val.strip('Ġ▁ ').lower() not in only_from_list])\n",
        "    if exclude_brackets:\n",
        "        ignored_indices = set(ignored_indices).intersection(\n",
        "            {key for val, key in tokenizer.vocab.items() if not (val.isascii() and val.isalnum())})\n",
        "        ignored_indices = list(ignored_indices)\n",
        "\n",
        "    ignored_indices = list(set(ignored_indices))\n",
        "    v[ignored_indices] = -np.inf\n",
        "    extra_values_pos = len(v)\n",
        "    if extra_values is not None:\n",
        "        v = torch.cat([v, extra_values])\n",
        "    values, indices = torch.topk(v, k=k)\n",
        "    res = convert_to_tokens(indices, tokenizer, extended=extended, extra_values_pos=extra_values_pos)\n",
        "    if with_values:\n",
        "        res = list(zip(res, values.cpu().numpy()))\n",
        "    return res"
      ]
    },
    {
      "cell_type": "markdown",
      "id": "5e03a094-4602-47bf-89ea-0656fb4c1d5d",
      "metadata": {
        "id": "5e03a094-4602-47bf-89ea-0656fb4c1d5d"
      },
      "source": [
        "## Extract Weights"
      ]
    },
    {
      "cell_type": "code",
      "source": [
        "tokenizer_gpt = AutoTokenizer.from_pretrained(\"sdadas/polish-gpt2-medium\", add_prefix_space=True)\n",
        "tokenizer_gpt.pad_token = tokenizer_gpt.eos_token\n",
        "model_gpt = AutoModelForTokenClassification.from_pretrained(\"sdadas/polish-gpt2-medium\", pad_token_id=tokenizer_gpt.pad_token_id)\n"
      ],
      "metadata": {
        "colab": {
          "base_uri": "https://localhost:8080/"
        },
        "id": "seH3Dto4SPiw",
        "outputId": "db58a5ac-702a-48ec-a9ad-eb75ab6d9c4e"
      },
      "id": "seH3Dto4SPiw",
      "execution_count": null,
      "outputs": [
        {
          "output_type": "stream",
          "name": "stderr",
          "text": [
            "Some weights of GPT2ForTokenClassification were not initialized from the model checkpoint at sdadas/polish-gpt2-medium and are newly initialized: ['classifier.bias', 'classifier.weight']\n",
            "You should probably TRAIN this model on a down-stream task to be able to use it for predictions and inference.\n"
          ]
        }
      ]
    },
    {
      "cell_type": "code",
      "execution_count": null,
      "id": "a6e82d2c-92a5-4892-afc3-b40439d6b971",
      "metadata": {
        "id": "a6e82d2c-92a5-4892-afc3-b40439d6b971"
      },
      "outputs": [],
      "source": [
        "model = AutoModelForCausalLM.from_pretrained(\"sdadas/polish-gpt2-medium\")\n",
        "tokenizer = my_tokenizer = AutoTokenizer.from_pretrained(\"sdadas/polish-gpt2-medium\")\n",
        "emb = model.get_output_embeddings().weight.data.T.detach()\n",
        "\n",
        "num_layers = model.config.n_layer\n",
        "num_heads = model.config.n_head\n",
        "hidden_dim = model.config.n_embd\n",
        "head_size = hidden_dim // num_heads\n",
        "\n",
        "K = torch.cat([model.get_parameter(f\"transformer.h.{j}.mlp.c_fc.weight\").T\n",
        "                           for j in range(num_layers)]).detach()\n",
        "V = torch.cat([model.get_parameter(f\"transformer.h.{j}.mlp.c_proj.weight\")\n",
        "                           for j in range(num_layers)]).detach()\n",
        "\n",
        "W_Q, W_K, W_V = torch.cat([model.get_parameter(f\"transformer.h.{j}.attn.c_attn.weight\")\n",
        "                           for j in range(num_layers)]).detach().chunk(3, dim=-1)\n",
        "W_O = torch.cat([model.get_parameter(f\"transformer.h.{j}.attn.c_proj.weight\")\n",
        "                           for j in range(num_layers)]).detach()\n"
      ]
    },
    {
      "cell_type": "code",
      "execution_count": null,
      "id": "104fd920-f247-4827-be5a-c958dfadbe17",
      "metadata": {
        "id": "104fd920-f247-4827-be5a-c958dfadbe17"
      },
      "outputs": [],
      "source": [
        "K_heads = K.reshape(num_layers, -1, hidden_dim)\n",
        "V_heads = V.reshape(num_layers, -1, hidden_dim)\n",
        "d_int = K_heads.shape[1]\n",
        "\n",
        "W_Q_heads = W_Q.reshape(num_layers, hidden_dim, num_heads, head_size).permute(0, 2, 1, 3)\n",
        "W_K_heads = W_K.reshape(num_layers, hidden_dim, num_heads, head_size).permute(0, 2, 1, 3)\n",
        "W_V_heads = W_V.reshape(num_layers, hidden_dim, num_heads, head_size).permute(0, 2, 1, 3)\n",
        "W_O_heads = W_O.reshape(num_layers, num_heads, head_size, hidden_dim)"
      ]
    },
    {
      "cell_type": "code",
      "execution_count": null,
      "id": "cec5b99d-9e6c-413f-a43d-02fd39485640",
      "metadata": {
        "id": "cec5b99d-9e6c-413f-a43d-02fd39485640"
      },
      "outputs": [],
      "source": [
        "emb_inv = emb.T"
      ]
    },
    {
      "cell_type": "markdown",
      "id": "e58b9e38-8ff4-41f6-8c47-8ae23f4293e6",
      "metadata": {
        "id": "e58b9e38-8ff4-41f6-8c47-8ae23f4293e6"
      },
      "source": [
        "## Interpretation"
      ]
    },
    {
      "cell_type": "markdown",
      "id": "e81b3452-6449-4397-bda7-3209c573c53a",
      "metadata": {
        "id": "e81b3452-6449-4397-bda7-3209c573c53a"
      },
      "source": [
        "#### Alternative I: No Token List"
      ]
    },
    {
      "cell_type": "code",
      "execution_count": null,
      "id": "6fbe8ce6-abf5-427b-b374-a43f88b06097",
      "metadata": {
        "id": "6fbe8ce6-abf5-427b-b374-a43f88b06097"
      },
      "outputs": [],
      "source": [
        "tokens_list = set()"
      ]
    },
    {
      "cell_type": "code",
      "source": [
        "!pip install datasets"
      ],
      "metadata": {
        "colab": {
          "base_uri": "https://localhost:8080/"
        },
        "id": "G1u1gx16Tg8t",
        "outputId": "c2d100c6-58e0-42a2-b6ec-dd36f6980b90"
      },
      "id": "G1u1gx16Tg8t",
      "execution_count": null,
      "outputs": [
        {
          "output_type": "stream",
          "name": "stdout",
          "text": [
            "Requirement already satisfied: datasets in /usr/local/lib/python3.10/dist-packages (3.1.0)\n",
            "Requirement already satisfied: filelock in /usr/local/lib/python3.10/dist-packages (from datasets) (3.16.1)\n",
            "Requirement already satisfied: numpy>=1.17 in /usr/local/lib/python3.10/dist-packages (from datasets) (1.26.4)\n",
            "Requirement already satisfied: pyarrow>=15.0.0 in /usr/local/lib/python3.10/dist-packages (from datasets) (17.0.0)\n",
            "Requirement already satisfied: dill<0.3.9,>=0.3.0 in /usr/local/lib/python3.10/dist-packages (from datasets) (0.3.8)\n",
            "Requirement already satisfied: pandas in /usr/local/lib/python3.10/dist-packages (from datasets) (2.2.2)\n",
            "Requirement already satisfied: requests>=2.32.2 in /usr/local/lib/python3.10/dist-packages (from datasets) (2.32.3)\n",
            "Requirement already satisfied: tqdm>=4.66.3 in /usr/local/lib/python3.10/dist-packages (from datasets) (4.66.6)\n",
            "Requirement already satisfied: xxhash in /usr/local/lib/python3.10/dist-packages (from datasets) (3.5.0)\n",
            "Requirement already satisfied: multiprocess<0.70.17 in /usr/local/lib/python3.10/dist-packages (from datasets) (0.70.16)\n",
            "Requirement already satisfied: fsspec<=2024.9.0,>=2023.1.0 in /usr/local/lib/python3.10/dist-packages (from fsspec[http]<=2024.9.0,>=2023.1.0->datasets) (2024.9.0)\n",
            "Requirement already satisfied: aiohttp in /usr/local/lib/python3.10/dist-packages (from datasets) (3.11.1)\n",
            "Requirement already satisfied: huggingface-hub>=0.23.0 in /usr/local/lib/python3.10/dist-packages (from datasets) (0.26.2)\n",
            "Requirement already satisfied: packaging in /usr/local/lib/python3.10/dist-packages (from datasets) (24.2)\n",
            "Requirement already satisfied: pyyaml>=5.1 in /usr/local/lib/python3.10/dist-packages (from datasets) (6.0.2)\n",
            "Requirement already satisfied: aiohappyeyeballs>=2.3.0 in /usr/local/lib/python3.10/dist-packages (from aiohttp->datasets) (2.4.3)\n",
            "Requirement already satisfied: aiosignal>=1.1.2 in /usr/local/lib/python3.10/dist-packages (from aiohttp->datasets) (1.3.1)\n",
            "Requirement already satisfied: attrs>=17.3.0 in /usr/local/lib/python3.10/dist-packages (from aiohttp->datasets) (24.2.0)\n",
            "Requirement already satisfied: frozenlist>=1.1.1 in /usr/local/lib/python3.10/dist-packages (from aiohttp->datasets) (1.5.0)\n",
            "Requirement already satisfied: multidict<7.0,>=4.5 in /usr/local/lib/python3.10/dist-packages (from aiohttp->datasets) (6.1.0)\n",
            "Requirement already satisfied: propcache>=0.2.0 in /usr/local/lib/python3.10/dist-packages (from aiohttp->datasets) (0.2.0)\n",
            "Requirement already satisfied: yarl<2.0,>=1.17.0 in /usr/local/lib/python3.10/dist-packages (from aiohttp->datasets) (1.17.1)\n",
            "Requirement already satisfied: async-timeout<6.0,>=4.0 in /usr/local/lib/python3.10/dist-packages (from aiohttp->datasets) (4.0.3)\n",
            "Requirement already satisfied: typing-extensions>=3.7.4.3 in /usr/local/lib/python3.10/dist-packages (from huggingface-hub>=0.23.0->datasets) (4.12.2)\n",
            "Requirement already satisfied: charset-normalizer<4,>=2 in /usr/local/lib/python3.10/dist-packages (from requests>=2.32.2->datasets) (3.4.0)\n",
            "Requirement already satisfied: idna<4,>=2.5 in /usr/local/lib/python3.10/dist-packages (from requests>=2.32.2->datasets) (3.10)\n",
            "Requirement already satisfied: urllib3<3,>=1.21.1 in /usr/local/lib/python3.10/dist-packages (from requests>=2.32.2->datasets) (2.2.3)\n",
            "Requirement already satisfied: certifi>=2017.4.17 in /usr/local/lib/python3.10/dist-packages (from requests>=2.32.2->datasets) (2024.8.30)\n",
            "Requirement already satisfied: python-dateutil>=2.8.2 in /usr/local/lib/python3.10/dist-packages (from pandas->datasets) (2.8.2)\n",
            "Requirement already satisfied: pytz>=2020.1 in /usr/local/lib/python3.10/dist-packages (from pandas->datasets) (2024.2)\n",
            "Requirement already satisfied: tzdata>=2022.7 in /usr/local/lib/python3.10/dist-packages (from pandas->datasets) (2024.2)\n",
            "Requirement already satisfied: six>=1.5 in /usr/local/lib/python3.10/dist-packages (from python-dateutil>=2.8.2->pandas->datasets) (1.16.0)\n"
          ]
        }
      ]
    },
    {
      "cell_type": "markdown",
      "id": "ada3bfc9-3d15-43ae-a21c-da0747b16ba4",
      "metadata": {
        "id": "ada3bfc9-3d15-43ae-a21c-da0747b16ba4"
      },
      "source": [
        "#### Alternative II: Can Load Token List from IMDB"
      ]
    },
    {
      "cell_type": "code",
      "execution_count": null,
      "id": "2bb14a77-5ac2-449b-b771-97be619cb79a",
      "metadata": {
        "id": "2bb14a77-5ac2-449b-b771-97be619cb79a"
      },
      "outputs": [],
      "source": [
        "from datasets import load_dataset"
      ]
    },
    {
      "cell_type": "code",
      "execution_count": null,
      "id": "6fe48f8f-eb62-4bee-a45c-27ff12220825",
      "metadata": {
        "id": "6fe48f8f-eb62-4bee-a45c-27ff12220825"
      },
      "outputs": [],
      "source": [
        "# imdb = load_dataset('imdb')['train']['text']\n",
        "imdb = load_dataset(\"clarin-knext/wsd_polish_datasets\", trust_remote_code=True)['train']['text']"
      ]
    },
    {
      "cell_type": "code",
      "execution_count": null,
      "id": "ae8eb81a-8525-40ef-8376-a902980c18d0",
      "metadata": {
        "id": "ae8eb81a-8525-40ef-8376-a902980c18d0"
      },
      "outputs": [],
      "source": [
        "max_tokens_num = None"
      ]
    },
    {
      "cell_type": "code",
      "execution_count": null,
      "id": "ea6fd97b-1dbf-4e61-bcdb-f4f2d2c23ef9",
      "metadata": {
        "colab": {
          "base_uri": "https://localhost:8080/"
        },
        "id": "ea6fd97b-1dbf-4e61-bcdb-f4f2d2c23ef9",
        "outputId": "770ad969-d961-4a0d-b533-f4a3aa9c9a2c"
      },
      "outputs": [
        {
          "output_type": "stream",
          "name": "stderr",
          "text": [
            "100%|██████████| 7848/7848 [00:15<00:00, 490.85it/s]\n"
          ]
        }
      ],
      "source": [
        "if max_tokens_num is None:\n",
        "    tokens_list = set()\n",
        "    for txt in tqdm(imdb):\n",
        "        tokens_list = tokens_list.union(set(tokenizer.tokenize(txt)))\n",
        "else:\n",
        "    tokens_list = Counter()\n",
        "    for txt in tqdm(imdb):\n",
        "        tokens_list.update(set(tokenizer.tokenize(txt)))\n",
        "    tokens_list = map(lambda x: x[0], tokens_list.most_common(max_tokens_num))\n"
      ]
    },
    {
      "cell_type": "code",
      "execution_count": null,
      "id": "f2944cdd-13d9-41ea-a2d8-a643ab49b583",
      "metadata": {
        "id": "f2944cdd-13d9-41ea-a2d8-a643ab49b583"
      },
      "outputs": [],
      "source": [
        "tokens_list = set([*map(lambda x: x.strip('Ġ▁').lower(), tokens_list)])"
      ]
    },
    {
      "cell_type": "markdown",
      "id": "cd71b325-da96-47b2-99a8-6b909668b642",
      "metadata": {
        "id": "cd71b325-da96-47b2-99a8-6b909668b642"
      },
      "source": [
        "### FF Keys & Values"
      ]
    },
    {
      "cell_type": "code",
      "source": [
        "num_layers, d_int\n",
        "# (14, 1117) policja"
      ],
      "metadata": {
        "colab": {
          "base_uri": "https://localhost:8080/"
        },
        "id": "Jiydl9KkV3gd",
        "outputId": "f984347b-cac5-4919-e492-e8d686ea769c"
      },
      "id": "Jiydl9KkV3gd",
      "execution_count": null,
      "outputs": [
        {
          "output_type": "execute_result",
          "data": {
            "text/plain": [
              "(24, 4096)"
            ]
          },
          "metadata": {},
          "execution_count": 53
        }
      ]
    },
    {
      "cell_type": "code",
      "execution_count": null,
      "id": "b891ff3d-18ac-4daf-bb1b-272cc9bb00a5",
      "metadata": {
        "colab": {
          "base_uri": "https://localhost:8080/"
        },
        "id": "b891ff3d-18ac-4daf-bb1b-272cc9bb00a5",
        "outputId": "1ec34e94-4657-4583-d935-ee36ed2356d6"
      },
      "outputs": [
        {
          "output_type": "stream",
          "name": "stdout",
          "text": [
            "18 1126\n",
            "K           V\n",
            "----------  --------------\n",
            "#szczu      #zek\n",
            "puszek      #asi\n",
            "schud       #atio\n",
            "#bary       #day\n",
            "diecie      #dka\n",
            "dieta       #zku\n",
            "nagie       duchem\n",
            "nawil       #alo\n",
            "diete       #chanie\n",
            "warzywa     #FF\n",
            "#ontari     #chaj\n",
            "#szycie     #gaze\n",
            "wegetaria   troche\n",
            "brzuch      naturalny\n",
            "muszli      #dae\n",
            "skarpetki   fizj\n",
            "opakowanie  bior\n",
            "moczu       #chom\n",
            "kilogram    Fizy\n",
            "#szeniami   publicznym\n",
            "cera        intelektualnie\n",
            "wychu       materii\n",
            "ampu        #zej\n",
            "wap         #forma\n",
            "#szku       #dall\n",
            "pokarmu     zachci\n",
            "bielizny    figura\n",
            "#szen       niee\n",
            "skarpe      #zka\n",
            "#szczem     #dac\n"
          ]
        }
      ],
      "source": [
        "i1, i2 = 23, 907\n",
        "# i1, i2 = 23, 4096\n",
        "i1, i2 = np.random.randint(num_layers), np.random.randint(d_int)\n",
        "\n",
        "print(i1, i2)\n",
        "print(tabulate([*zip(\n",
        "    top_tokens((K_heads[i1, i2]) @ emb, k=30, only_from_list=tokens_list, only_alnum=False),\n",
        "    top_tokens((V_heads[i1, i2]) @ emb, k=30, only_from_list=tokens_list, only_alnum=False),\n",
        "    # top_tokens((-K_heads[i1, i2]) @ emb, k=200, only_from_list=tokens_list),\n",
        "    # top_tokens((-V_heads[i1, i2]) @ emb, k=200, only_from_list=tokens_list),\n",
        ")], headers=['K', 'V', '-K', '-V']))"
      ]
    },
    {
      "cell_type": "markdown",
      "id": "5ec96387-7cd5-4348-9444-6e1a10987da3",
      "metadata": {
        "id": "5ec96387-7cd5-4348-9444-6e1a10987da3"
      },
      "source": [
        "### Attention Weights Interpretation"
      ]
    },
    {
      "cell_type": "code",
      "execution_count": null,
      "id": "ca7323f0-7cf9-4020-bbbd-191de7fe25b0",
      "metadata": {
        "id": "ca7323f0-7cf9-4020-bbbd-191de7fe25b0"
      },
      "outputs": [],
      "source": [
        "def approx_topk(mat, min_k=500, max_k=250_000, th0=10, max_iters=10, verbose=False):\n",
        "    _get_actual_k = lambda th, th_max: torch.nonzero((mat > th) & (mat < th_max)).shape[0]\n",
        "    th_max = np.inf\n",
        "    left, right = 0, th0\n",
        "    while True:\n",
        "        actual_k = _get_actual_k(right, th_max)\n",
        "        if verbose:\n",
        "            print(f\"one more iteration. {actual_k}\")\n",
        "        if actual_k <= max_k:\n",
        "            break\n",
        "        left, right = right, right * 2\n",
        "    if min_k <= actual_k <= max_k:\n",
        "        th = right\n",
        "    else:\n",
        "        for _ in range(max_iters):\n",
        "            mid = (left + right) / 2\n",
        "            actual_k = _get_actual_k(mid, th_max)\n",
        "            if verbose:\n",
        "                print(f\"one more iteration. {actual_k}\")\n",
        "            if min_k <= actual_k <= max_k:\n",
        "                break\n",
        "            if actual_k > max_k:\n",
        "                left = mid\n",
        "            else:\n",
        "                right = mid\n",
        "        th = mid\n",
        "    return torch.nonzero((mat > th) & (mat < th_max)).tolist()\n",
        "\n",
        "def get_top_entries(tmp, all_high_pos, only_ascii=False, only_alnum=False, exclude_same=False, exclude_fuzzy=False, tokens_list=None):\n",
        "    remaining_pos = all_high_pos\n",
        "    if only_ascii:\n",
        "        remaining_pos = [*filter(\n",
        "            lambda x: (tokenizer.decode(x[0]).strip('Ġ▁').isascii() and tokenizer.decode(x[1]).strip('Ġ▁').isascii()),\n",
        "            remaining_pos)]\n",
        "    if only_alnum:\n",
        "        remaining_pos = [*filter(\n",
        "            lambda x: (tokenizer.decode(x[0]).strip('Ġ▁ ').isalnum() and tokenizer.decode(x[1]).strip('Ġ▁ ').isalnum()),\n",
        "            remaining_pos)]\n",
        "    if exclude_same:\n",
        "        remaining_pos = [*filter(\n",
        "            lambda x: tokenizer.decode(x[0]).lower().strip() != tokenizer.decode(x[1]).lower().strip(),\n",
        "            remaining_pos)]\n",
        "    if exclude_fuzzy:\n",
        "        remaining_pos = [*filter(\n",
        "            lambda x: not _fuzzy_eq(tokenizer.decode(x[0]).lower().strip(), tokenizer.decode(x[1]).lower().strip()),\n",
        "            remaining_pos)]\n",
        "    if tokens_list:\n",
        "        remaining_pos = [*filter(\n",
        "            lambda x: ((tokenizer.decode(x[0]).strip('Ġ▁').lower().strip() in tokens_list) and\n",
        "                       (tokenizer.decode(x[1]).strip('Ġ▁').lower().strip() in tokens_list)),\n",
        "            remaining_pos)]\n",
        "\n",
        "    pos_val = tmp[[*zip(*remaining_pos)]]\n",
        "    good_cells = [*map(lambda x: (tokenizer.decode(x[0]), tokenizer.decode(x[1])), remaining_pos)]\n",
        "    good_tokens = list(map(lambda x: Counter(x).most_common(), zip(*good_cells)))\n",
        "    remaining_pos_best = np.array(remaining_pos)[torch.argsort(pos_val if reverse_list else -pos_val)[:50]]\n",
        "    good_cells_best = [*map(lambda x: (tokenizer.decode(x[0]), tokenizer.decode(x[1])), remaining_pos_best)]\n",
        "    # good_cells[:100]\n",
        "    # list(zip(good_tokens[0], good_tokens[1]))\n",
        "    return good_cells_best"
      ]
    },
    {
      "cell_type": "markdown",
      "id": "2bbd4e4a-a69b-4d58-a371-426b9073ff81",
      "metadata": {
        "tags": [],
        "id": "2bbd4e4a-a69b-4d58-a371-426b9073ff81"
      },
      "source": [
        "#### $W_{VO}$ Interpretation"
      ]
    },
    {
      "cell_type": "markdown",
      "id": "79156807-54af-4fe8-b170-29dc0856d686",
      "metadata": {
        "id": "79156807-54af-4fe8-b170-29dc0856d686"
      },
      "source": [
        "Choose **layer** and **head** here:"
      ]
    },
    {
      "cell_type": "code",
      "source": [
        "num_layers, num_heads"
      ],
      "metadata": {
        "colab": {
          "base_uri": "https://localhost:8080/"
        },
        "id": "IRTqqGnOVFf_",
        "outputId": "b31d2d2e-4b4b-48b1-8674-273696a1f45f"
      },
      "id": "IRTqqGnOVFf_",
      "execution_count": null,
      "outputs": [
        {
          "output_type": "execute_result",
          "data": {
            "text/plain": [
              "(24, 16)"
            ]
          },
          "metadata": {},
          "execution_count": 56
        }
      ]
    },
    {
      "cell_type": "code",
      "execution_count": null,
      "id": "f0d00edd-fdca-40d0-807f-e4bf3d7611e9",
      "metadata": {
        "colab": {
          "base_uri": "https://localhost:8080/"
        },
        "id": "f0d00edd-fdca-40d0-807f-e4bf3d7611e9",
        "outputId": "448ea35e-734c-4cd5-ead4-a1aee3c1f61f"
      },
      "outputs": [
        {
          "output_type": "execute_result",
          "data": {
            "text/plain": [
              "(23, 12)"
            ]
          },
          "metadata": {},
          "execution_count": 57
        }
      ],
      "source": [
        "i1, i2 = np.random.randint(num_layers), np.random.randint(num_heads)\n",
        "# i1, i2 = 24, 9\n",
        "i1, i2"
      ]
    },
    {
      "cell_type": "code",
      "execution_count": null,
      "id": "2743e277-74f7-41a6-a479-5bd65840d2d8",
      "metadata": {
        "id": "2743e277-74f7-41a6-a479-5bd65840d2d8"
      },
      "outputs": [],
      "source": [
        "W_V_tmp, W_O_tmp = W_V_heads[i1, i2, :], W_O_heads[i1, i2]\n",
        "tmp = (emb_inv @ (W_V_tmp @ W_O_tmp) @ emb)"
      ]
    },
    {
      "cell_type": "code",
      "execution_count": null,
      "id": "0ede26ee-3b82-4446-8b6d-2300e7bdcc16",
      "metadata": {
        "colab": {
          "base_uri": "https://localhost:8080/"
        },
        "id": "0ede26ee-3b82-4446-8b6d-2300e7bdcc16",
        "outputId": "5158824b-c887-4d27-d180-827c7256d73d"
      },
      "outputs": [
        {
          "output_type": "stream",
          "name": "stdout",
          "text": [
            "one more iteration. 0\n",
            "one more iteration. 0\n",
            "one more iteration. 31\n",
            "one more iteration. 11149\n"
          ]
        }
      ],
      "source": [
        "all_high_pos = approx_topk(tmp, th0=1, verbose=True) # torch.nonzero((tmp > th) & (tmp < th_max)).tolist()"
      ]
    },
    {
      "cell_type": "code",
      "execution_count": null,
      "id": "3207aed9-f99e-4109-9160-2d62f31e8b76",
      "metadata": {
        "id": "3207aed9-f99e-4109-9160-2d62f31e8b76"
      },
      "outputs": [],
      "source": [
        "exclude_same = False\n",
        "reverse_list = False\n",
        "only_ascii = True\n",
        "only_alnum = False"
      ]
    },
    {
      "cell_type": "code",
      "execution_count": null,
      "id": "0fab412a-3f2e-4e0c-b11e-c462b17b6191",
      "metadata": {
        "id": "0fab412a-3f2e-4e0c-b11e-c462b17b6191",
        "colab": {
          "base_uri": "https://localhost:8080/"
        },
        "outputId": "1040ef93-1802-4151-f527-0067070e40cf"
      },
      "outputs": [
        {
          "output_type": "execute_result",
          "data": {
            "text/plain": [
              "[('zwykopem', 'dzaj'),\n",
              " ('zwykopem', 'duj'),\n",
              " ('zwykopem', 'gaj'),\n",
              " ('zwykopem', 'wiaj'),\n",
              " ('zwykopem', 'laj'),\n",
              " ('emy', 'dzaj'),\n",
              " ('zwykopem', 'minaj'),\n",
              " ('zwykopem', 'aj'),\n",
              " ('mady', ' no'),\n",
              " ('zwykopem', 'kuj'),\n",
              " ('miona', ' I'),\n",
              " ('zwykopem', 'kaj'),\n",
              " ('naugu', ' I'),\n",
              " ('zwykopem', ' szukaj'),\n",
              " ('kia', ' no'),\n",
              " ('naczej', ' I'),\n",
              " ('zwykopem', 'nuj'),\n",
              " ('%', ' 2'),\n",
              " ('%,', ' 2'),\n",
              " ('zwykopem', 'chaj'),\n",
              " ('zwykopem', 'raj'),\n",
              " ('Query', 'j'),\n",
              " ('%.', ' 2'),\n",
              " ('emy', 'gaj'),\n",
              " ('zwykopem', ' moj'),\n",
              " ('zwykopem', 'zuj'),\n",
              " ('emy', 'waj'),\n",
              " ('zwykopem', 'daj'),\n",
              " ('\\x01', 'laj'),\n",
              " ('%,', ' 3'),\n",
              " ('zwykopem', 'czaj'),\n",
              " ('emy', 'kuj'),\n",
              " ('zwykopem', 'tuj'),\n",
              " ('%', ' 3'),\n",
              " ('\\x01', 'wiaj'),\n",
              " ('zwykopem', ' j'),\n",
              " ('lle', 'c'),\n",
              " ('%,', ' 4'),\n",
              " ('%.', ' 3'),\n",
              " ('zwykopem', ' patrz'),\n",
              " ('\\x01', 'dzaj'),\n",
              " ('zwykopem', ' ej'),\n",
              " ('Query', 'gaj'),\n",
              " ('DF', ' 2'),\n",
              " ('emy', 'duj'),\n",
              " ('zwykopem', 'ruj'),\n",
              " ('\\x01', ' j'),\n",
              " ('ngu', ' np'),\n",
              " ('zwykopem', 'caj'),\n",
              " ('%.', ' 4')]"
            ]
          },
          "metadata": {},
          "execution_count": 61
        }
      ],
      "source": [
        "get_top_entries(tmp, all_high_pos, only_ascii=only_ascii, only_alnum=only_alnum,\n",
        "                exclude_same=exclude_same, tokens_list=None)"
      ]
    },
    {
      "cell_type": "markdown",
      "id": "49638ac2-455c-4441-aa67-4fde61c9ea83",
      "metadata": {
        "tags": [],
        "id": "49638ac2-455c-4441-aa67-4fde61c9ea83"
      },
      "source": [
        "#### $W_{QK}$ Interpretation"
      ]
    },
    {
      "cell_type": "markdown",
      "id": "8fbfc882-3bf7-46e5-8e6a-f6a245ceb7bf",
      "metadata": {
        "id": "8fbfc882-3bf7-46e5-8e6a-f6a245ceb7bf"
      },
      "source": [
        "Choose **layer** and **head** here:"
      ]
    },
    {
      "cell_type": "code",
      "execution_count": null,
      "id": "c43e9c99-f9bf-4eae-b215-289a7f630ccd",
      "metadata": {
        "id": "c43e9c99-f9bf-4eae-b215-289a7f630ccd",
        "colab": {
          "base_uri": "https://localhost:8080/"
        },
        "outputId": "cd07db3d-1e84-4346-ffb5-f40d9f5ec378"
      },
      "outputs": [
        {
          "output_type": "execute_result",
          "data": {
            "text/plain": [
              "(7, 6)"
            ]
          },
          "metadata": {},
          "execution_count": 62
        }
      ],
      "source": [
        "i1, i2 = np.random.randint(num_layers), np.random.randint(num_heads)\n",
        "# i1, i2 = 20, 13\n",
        "i1, i2"
      ]
    },
    {
      "cell_type": "code",
      "execution_count": null,
      "id": "e74cb0c2-c39f-42ce-a87c-91125207d537",
      "metadata": {
        "id": "e74cb0c2-c39f-42ce-a87c-91125207d537"
      },
      "outputs": [],
      "source": [
        "W_Q_tmp, W_K_tmp = W_Q_heads[i1, i2, :], W_K_heads[i1, i2, :]\n",
        "tmp2 = (emb_inv @ (W_Q_tmp @ W_K_tmp.T) @ emb_inv.T)"
      ]
    },
    {
      "cell_type": "code",
      "execution_count": null,
      "id": "26a461fb-bcbc-477a-be76-20f5b52f329d",
      "metadata": {
        "id": "26a461fb-bcbc-477a-be76-20f5b52f329d",
        "colab": {
          "base_uri": "https://localhost:8080/"
        },
        "outputId": "20f5fd5f-79d6-4334-b38f-5c9c50078650"
      },
      "outputs": [
        {
          "output_type": "stream",
          "name": "stdout",
          "text": [
            "one more iteration. 0\n",
            "one more iteration. 0\n",
            "one more iteration. 0\n",
            "one more iteration. 176\n",
            "one more iteration. 574796\n",
            "one more iteration. 6560\n"
          ]
        }
      ],
      "source": [
        "all_high_pos = approx_topk(tmp2, th0=1, verbose=True) # torch.nonzero((tmp2 > th2) & (tmp2 < th_max2)).tolist()"
      ]
    },
    {
      "cell_type": "code",
      "execution_count": null,
      "id": "16706487-23da-4e39-9799-641528d2e6ed",
      "metadata": {
        "id": "16706487-23da-4e39-9799-641528d2e6ed"
      },
      "outputs": [],
      "source": [
        "exclude_same = False\n",
        "reverse_list = False\n",
        "only_ascii = True\n",
        "only_alnum = True"
      ]
    },
    {
      "cell_type": "code",
      "execution_count": null,
      "id": "4e402a1a-8481-4481-9bad-a10f70542b63",
      "metadata": {
        "id": "4e402a1a-8481-4481-9bad-a10f70542b63",
        "colab": {
          "base_uri": "https://localhost:8080/"
        },
        "outputId": "509cf7a1-e8e1-458d-8e80-9bb68d55a5bf"
      },
      "outputs": [
        {
          "output_type": "execute_result",
          "data": {
            "text/plain": [
              "[('dex', 'loka'),\n",
              " ('polsce', 'tka'),\n",
              " ('logie', 'tka'),\n",
              " ('use', 'arian'),\n",
              " ('struktura', 'tka'),\n",
              " ('ink', 'mer'),\n",
              " ('erytory', 'tka'),\n",
              " ('ink', 'emon'),\n",
              " ('ink', 'ole'),\n",
              " ('ink', 'mera'),\n",
              " ('niusz', 'FE'),\n",
              " ('nku', 'mera'),\n",
              " ('gas', 'OS'),\n",
              " ('PS', 'lika'),\n",
              " ('use', 'ange'),\n",
              " ('ologie', 'tka'),\n",
              " ('zmat', 'ange'),\n",
              " ('odu', 'stolatek'),\n",
              " ('kina', 'ange'),\n",
              " ('ymu', 'ME'),\n",
              " (' Lewica', 'tka'),\n",
              " ('sin', 'czko'),\n",
              " ('struktury', 'tka'),\n",
              " ('uze', 'lika'),\n",
              " ('ktura', 'tka'),\n",
              " ('noty', 'MIE'),\n",
              " ('ins', 'ole'),\n",
              " ('cit', 'loka'),\n",
              " ('owz', 'Mistrz'),\n",
              " ('Budowa', 'tka'),\n",
              " ('sel', 'OS'),\n",
              " ('ins', 'mer'),\n",
              " ('php', 'rus'),\n",
              " ('linga', 'gali'),\n",
              " ('use', 'lika'),\n",
              " ('osci', 'tka'),\n",
              " ('szenko', 'siedli'),\n",
              " ('nizacji', 'tka'),\n",
              " ('RN', 'gaj'),\n",
              " ('BN', 'gdo'),\n",
              " ('Hen', 'ange'),\n",
              " ('kil', 'loka'),\n",
              " ('Np', 'tka'),\n",
              " ('pr', 'gdo'),\n",
              " ('RN', 'gdo'),\n",
              " ('kum', 'tka'),\n",
              " ('ect', 'siedli'),\n",
              " ('VD', 'tka'),\n",
              " ('ink', 'siedli'),\n",
              " ('lino', 'mera')]"
            ]
          },
          "metadata": {},
          "execution_count": 66
        }
      ],
      "source": [
        "get_top_entries(tmp2, all_high_pos, only_ascii=only_ascii, only_alnum=only_alnum, exclude_same=exclude_same,\n",
        "                tokens_list=tokens_list)"
      ]
    },
    {
      "cell_type": "markdown",
      "id": "d5e6b973-a8c8-4775-aa69-fa1bac08c450",
      "metadata": {
        "id": "d5e6b973-a8c8-4775-aa69-fa1bac08c450"
      },
      "source": [
        "## Plots"
      ]
    },
    {
      "cell_type": "markdown",
      "id": "bc9d2084-4e47-40b9-b864-62bf0b1d6e9b",
      "metadata": {
        "id": "bc9d2084-4e47-40b9-b864-62bf0b1d6e9b"
      },
      "source": [
        "*We thank Ohad Rubin for the idea of providing plots for better visualizations!*"
      ]
    },
    {
      "cell_type": "code",
      "execution_count": null,
      "id": "c30e8596-b8a1-4b53-935c-24318aca7fdf",
      "metadata": {
        "id": "c30e8596-b8a1-4b53-935c-24318aca7fdf"
      },
      "outputs": [],
      "source": [
        "i1, i2 = 6, 2152"
      ]
    },
    {
      "cell_type": "code",
      "execution_count": null,
      "id": "99271972-75c1-4cc2-b0be-c5f0895558fb",
      "metadata": {
        "id": "99271972-75c1-4cc2-b0be-c5f0895558fb"
      },
      "outputs": [],
      "source": [
        "from sklearn.manifold import TSNE\n",
        "import pandas as pd\n",
        "import plotly.express as px"
      ]
    },
    {
      "cell_type": "code",
      "execution_count": null,
      "id": "3fb14d53-dc5d-47aa-8609-3633843e1d53",
      "metadata": {
        "id": "3fb14d53-dc5d-47aa-8609-3633843e1d53"
      },
      "outputs": [],
      "source": [
        "def _calc_df(vector, k, coef, normalized, tokenizer):\n",
        "    mat = emb\n",
        "    if normalized:\n",
        "        mat = F.normalize(mat, dim=-1)\n",
        "    dot = vector @ mat\n",
        "    sol = torch.topk(dot * coef, k=k).indices # np.argsort(dot * coef)[-k:]\n",
        "    pattern = mat[:, sol].T\n",
        "    scores = coef * dot[sol]\n",
        "    # labels = tokenizer.batch_decode(sol)\n",
        "    labels = convert_to_tokens(sol, tokenizer=tokenizer)\n",
        "    X_embedded = TSNE(n_components=3,\n",
        "                  learning_rate=10,\n",
        "                   init='pca',\n",
        "                   perplexity=3).fit_transform(pattern)\n",
        "\n",
        "    df = pd.DataFrame(dict(x=X_embedded.T[0], y=X_embedded.T[1], z=X_embedded.T[2], label=labels, score=scores))\n",
        "    return df\n",
        "\n",
        "\n",
        "def plot_embedding_space(vector, is_3d=False, add_text=False, k=100, coef=1, normalized=False, tokenizer=None):\n",
        "    df = _calc_df(vector, k=k, coef=coef, normalized=normalized, tokenizer=tokenizer)\n",
        "    kwargs = {}\n",
        "    scatter_fn = px.scatter\n",
        "    if add_text:\n",
        "        kwargs.update({'text': 'label'})\n",
        "    if is_3d:\n",
        "        scatter_fn = px.scatter_3d\n",
        "        kwargs.update({'z': 'z'})\n",
        "    fig = scatter_fn(\n",
        "        data_frame=df,\n",
        "        x='x',\n",
        "        y='y',\n",
        "        custom_data=[\"label\", \"score\"],\n",
        "        color=\"score\", size_max=1, **kwargs)\n",
        "\n",
        "    fig.update_traces(\n",
        "        hovertemplate=\"<br>\".join([\n",
        "            \"ColX: %{x}\",\n",
        "            \"ColY: %{y}\",\n",
        "            \"label: %{customdata[0]}\",\n",
        "            \"score: %{customdata[1]}\"\n",
        "        ])\n",
        "    )\n",
        "\n",
        "    if add_text:\n",
        "        fig.update_traces(textposition='middle right')\n",
        "    fig.show()"
      ]
    },
    {
      "cell_type": "code",
      "execution_count": null,
      "id": "80575a88-3633-4a10-9e0e-9c1b41c65c46",
      "metadata": {
        "id": "80575a88-3633-4a10-9e0e-9c1b41c65c46",
        "colab": {
          "base_uri": "https://localhost:8080/",
          "height": 542
        },
        "outputId": "c7d2d469-771b-4539-ef83-c2d54cffe8c8"
      },
      "outputs": [
        {
          "output_type": "display_data",
          "data": {
            "text/html": [
              "<html>\n",
              "<head><meta charset=\"utf-8\" /></head>\n",
              "<body>\n",
              "    <div>            <script src=\"https://cdnjs.cloudflare.com/ajax/libs/mathjax/2.7.5/MathJax.js?config=TeX-AMS-MML_SVG\"></script><script type=\"text/javascript\">if (window.MathJax && window.MathJax.Hub && window.MathJax.Hub.Config) {window.MathJax.Hub.Config({SVG: {font: \"STIX-Web\"}});}</script>                <script type=\"text/javascript\">window.PlotlyConfig = {MathJaxConfig: 'local'};</script>\n",
              "        <script charset=\"utf-8\" src=\"https://cdn.plot.ly/plotly-2.35.2.min.js\"></script>                <div id=\"00409f1d-d76b-4390-ba12-c28a737f2189\" class=\"plotly-graph-div\" style=\"height:525px; width:100%;\"></div>            <script type=\"text/javascript\">                                    window.PLOTLYENV=window.PLOTLYENV || {};                                    if (document.getElementById(\"00409f1d-d76b-4390-ba12-c28a737f2189\")) {                    Plotly.newPlot(                        \"00409f1d-d76b-4390-ba12-c28a737f2189\",                        [{\"customdata\":[[\"#Trybun\",0.26768752932548523],[\"#PiÅĤka\",0.2507946491241455],[\"#sujÄħ\",0.243721604347229],[\"#OÅļÄĨ\",0.2379751354455948],[\"#ensy\",0.2352088838815689],[\"obowiÄħzujÄħcego\",0.23386362195014954],[\"#szyÅĦskiego\",0.23060722649097443],[\"#owaÅĤaby\",0.2294837236404419],[\"#pety\",0.2247418314218521],[\"#mosfera\",0.22009091079235077],[\"#PIERDALA\",0.21937593817710876],[\"#nowymi\",0.2182462364435196],[\"#Bol\",0.21713484823703766],[\"#mem\",0.21568988263607025],[\"#syjnego\",0.21513903141021729],[\"#sus\",0.21474626660346985],[\"historycznego\",0.21427246928215027],[\"#moÅ¼\",0.21328788995742798],[\"#ATY\",0.2126830667257309],[\"#szoÅĽÄĩ\",0.212299183011055],[\"#kujÄħcym\",0.2109990417957306],[\"#nerem\",0.21075928211212158],[\"#wanym\",0.20886076986789703],[\"#sujÄĻ\",0.20870663225650787],[\"#Dodat\",0.2086987942457199],[\"#Å¼eniami\",0.2084939181804657],[\"#tyfika\",0.20835843682289124],[\"#core\",0.20796149969100952],[\"#Obro\",0.20794819295406342],[\"#eriaÅĤ\",0.2077176868915558],[\"wydÅĤuÅ¼a\",0.206748366355896],[\"#PorzÄħdek\",0.2065996527671814],[\"#soci\",0.20631232857704163],[\"#czonymi\",0.2060786634683609],[\"spalin\",0.20455282926559448],[\"#Aktyw\",0.20408891141414642],[\"#dawa\",0.2031509280204773],[\"#zaka\",0.20254001021385193],[\"#PostÄĻp\",0.20053686201572418],[\"#many\",0.19983266294002533],[\"pandemiÄħ\",0.19983026385307312],[\"#kÅĤady\",0.1997062712907791],[\"#Techno\",0.19930025935173035],[\"#pieÅĦ\",0.19915808737277985],[\"#mianie\",0.19881336390972137],[\"PES\",0.19858597218990326],[\"lotÃ³w\",0.1981676071882248],[\"#hibi\",0.19797424972057343],[\"#szpa\",0.1969197541475296],[\"#koÅĽÄĩ\",0.1968507468700409],[\"#moÅ¼li\",0.19648191332817078],[\"#đ\",0.19644826650619507],[\"#NajwyÅ¼sza\",0.19638119637966156],[\"#lation\",0.1960114687681198],[\"zaludnienia\",0.1958719938993454],[\"#ring\",0.19564391672611237],[\"#owan\",0.19535040855407715],[\"#mowski\",0.19495616853237152],[\"#Å¹\",0.19408969581127167],[\"#szac\",0.19398176670074463],[\"#walnoÅĽÄĩ\",0.19371162354946136],[\"#risa\",0.1936400681734085],[\"uzasadnia\",0.1936206817626953],[\"#gip\",0.19356583058834076],[\"#struktu\",0.19329701364040375],[\"#syjnym\",0.19329218566417694],[\"#anowskiego\",0.19322490692138672],[\"#amentu\",0.1927655190229416],[\"#monia\",0.19189754128456116],[\"#czeniowe\",0.1914280652999878],[\"#tical\",0.19141055643558502],[\"#sujÄħcych\",0.1913720667362213],[\"organizmÃ³w\",0.19114013016223907],[\"#chal\",0.19105465710163116],[\"#has\",0.19103167951107025],[\"#ansÃ³w\",0.19101116061210632],[\"#Zastos\",0.19097095727920532],[\"kosmosu\",0.1909092664718628],[\"#miasta\",0.19057457149028778],[\"#tynen\",0.18980032205581665],[\"#notÄħ\",0.18978486955165863],[\"#Query\",0.1894783079624176],[\"#koÅĽciÄħ\",0.1893669217824936],[\"#History\",0.18910284340381622],[\"#Polski\",0.18903517723083496],[\"#su\",0.1889171004295349],[\"#lomet\",0.18854571878910065],[\"#Ameryka\",0.18854005634784698],[\"#chÅĤon\",0.18827340006828308],[\"#Nasi\",0.18822476267814636],[\"#Äĩmy\",0.1876075714826584],[\"#owujÄĻ\",0.18752709031105042],[\"#kowanym\",0.187266007065773],[\"#szyÅĦski\",0.1871185302734375],[\"#nota\",0.1870989203453064],[\"#maty\",0.18690462410449982],[\"#szewicz\",0.1867576539516449],[\"#wica\",0.18657977879047394],[\"#ÅĽlu\",0.18643639981746674],[\"#nomi\",0.18608951568603516]],\"hovertemplate\":\"ColX: %{x}\\u003cbr\\u003eColY: %{y}\\u003cbr\\u003elabel: %{customdata[0]}\\u003cbr\\u003escore: %{customdata[1]}\",\"legendgroup\":\"\",\"marker\":{\"color\":[0.26768753,0.25079465,0.2437216,0.23797514,0.23520888,0.23386362,0.23060723,0.22948372,0.22474183,0.22009091,0.21937594,0.21824624,0.21713485,0.21568988,0.21513903,0.21474627,0.21427247,0.21328789,0.21268307,0.21229918,0.21099904,0.21075928,0.20886077,0.20870663,0.2086988,0.20849392,0.20835844,0.2079615,0.2079482,0.20771769,0.20674837,0.20659965,0.20631233,0.20607866,0.20455283,0.20408891,0.20315093,0.20254001,0.20053686,0.19983266,0.19983026,0.19970627,0.19930026,0.19915809,0.19881336,0.19858597,0.1981676,0.19797425,0.19691975,0.19685075,0.19648191,0.19644827,0.1963812,0.19601147,0.195872,0.19564392,0.19535041,0.19495617,0.1940897,0.19398177,0.19371162,0.19364007,0.19362068,0.19356583,0.19329701,0.19329219,0.1932249,0.19276552,0.19189754,0.19142807,0.19141056,0.19137207,0.19114013,0.19105466,0.19103168,0.19101116,0.19097096,0.19090927,0.19057457,0.18980032,0.18978487,0.18947831,0.18936692,0.18910284,0.18903518,0.1889171,0.18854572,0.18854006,0.1882734,0.18822476,0.18760757,0.18752709,0.187266,0.18711853,0.18709892,0.18690462,0.18675765,0.18657978,0.1864364,0.18608952],\"coloraxis\":\"coloraxis\",\"symbol\":\"circle\"},\"mode\":\"markers\",\"name\":\"\",\"orientation\":\"v\",\"showlegend\":false,\"x\":[31.904623,15.28139,-40.871586,1.8536049,24.94271,-3.6199226,-35.68494,-19.185194,25.409092,-21.000668,9.67865,-44.66771,20.626253,-15.906418,-24.842062,-52.469128,0.5137999,36.713757,66.57707,0.09058671,-21.511337,-30.41755,-40.159096,-30.809202,26.04038,-25.0664,-1.4284233,59.048107,33.868168,-29.68459,13.990436,10.699913,-7.987939,-35.26125,-26.699194,54.939034,34.666588,46.473248,20.114277,3.215862,-2.2918842,5.2479906,46.54542,36.931232,-31.10907,43.444305,-7.658956,2.8151755,22.34579,-5.671948,29.214993,15.1244335,20.960018,-27.605963,-15.432637,-57.983295,-12.889389,-31.580366,12.944591,24.79801,-52.403362,-14.962777,12.969473,45.61203,23.254194,-27.46829,-20.465773,-10.733278,-12.424943,-29.520287,-48.34491,-40.948036,-17.309267,45.10436,40.00577,1.3636013,-42.763733,-15.030764,59.52813,11.714392,-31.952019,16.656965,-11.70842,6.84799,45.36915,-43.505505,-16.795113,24.305729,23.000334,16.123474,2.3529828,-16.225725,-30.148224,-36.426212,-36.44234,-14.199918,-42.941483,17.853718,26.209427,9.732956],\"xaxis\":\"x\",\"y\":[-1.8737067,15.416565,-35.773037,17.139734,3.1571596,-32.75402,-12.567062,-54.987347,11.908574,23.62928,11.328514,19.663656,32.652283,49.439697,-6.232988,-15.62801,-29.477995,-5.7656074,-1.2755151,37.6644,-9.435586,19.380688,0.5814321,-35.265713,6.579599,21.111797,20.398802,2.2416031,-12.451976,53.42956,-32.871853,23.700768,-4.018458,9.570136,-51.9625,-11.033916,-25.417522,-37.554848,22.173666,38.355846,-53.08066,68.61095,28.643484,-11.725192,31.035519,12.986475,-50.323917,1.8253204,53.567196,45.153088,-9.729573,3.9469717,-24.460844,14.376546,-28.165,10.908575,-37.878716,7.798893,-5.430673,-56.122734,-1.263435,-6.8854227,-36.758755,-2.7375138,47.279243,0.4535279,-15.674693,-50.61958,19.669813,6.1867485,23.555557,-29.054964,-37.62089,0.77910125,28.733532,-3.5647697,1.2519541,-56.414413,34.842144,32.384914,31.41036,-40.925625,49.120613,-27.398914,42.766075,-23.818468,41.26401,31.93176,-17.526321,34.202236,52.57037,-47.964596,-5.3824472,-2.8896732,40.261677,26.821953,-22.599863,-12.200506,26.947336,-13.914744],\"yaxis\":\"y\",\"type\":\"scatter\"}],                        {\"template\":{\"data\":{\"histogram2dcontour\":[{\"type\":\"histogram2dcontour\",\"colorbar\":{\"outlinewidth\":0,\"ticks\":\"\"},\"colorscale\":[[0.0,\"#0d0887\"],[0.1111111111111111,\"#46039f\"],[0.2222222222222222,\"#7201a8\"],[0.3333333333333333,\"#9c179e\"],[0.4444444444444444,\"#bd3786\"],[0.5555555555555556,\"#d8576b\"],[0.6666666666666666,\"#ed7953\"],[0.7777777777777778,\"#fb9f3a\"],[0.8888888888888888,\"#fdca26\"],[1.0,\"#f0f921\"]]}],\"choropleth\":[{\"type\":\"choropleth\",\"colorbar\":{\"outlinewidth\":0,\"ticks\":\"\"}}],\"histogram2d\":[{\"type\":\"histogram2d\",\"colorbar\":{\"outlinewidth\":0,\"ticks\":\"\"},\"colorscale\":[[0.0,\"#0d0887\"],[0.1111111111111111,\"#46039f\"],[0.2222222222222222,\"#7201a8\"],[0.3333333333333333,\"#9c179e\"],[0.4444444444444444,\"#bd3786\"],[0.5555555555555556,\"#d8576b\"],[0.6666666666666666,\"#ed7953\"],[0.7777777777777778,\"#fb9f3a\"],[0.8888888888888888,\"#fdca26\"],[1.0,\"#f0f921\"]]}],\"heatmap\":[{\"type\":\"heatmap\",\"colorbar\":{\"outlinewidth\":0,\"ticks\":\"\"},\"colorscale\":[[0.0,\"#0d0887\"],[0.1111111111111111,\"#46039f\"],[0.2222222222222222,\"#7201a8\"],[0.3333333333333333,\"#9c179e\"],[0.4444444444444444,\"#bd3786\"],[0.5555555555555556,\"#d8576b\"],[0.6666666666666666,\"#ed7953\"],[0.7777777777777778,\"#fb9f3a\"],[0.8888888888888888,\"#fdca26\"],[1.0,\"#f0f921\"]]}],\"heatmapgl\":[{\"type\":\"heatmapgl\",\"colorbar\":{\"outlinewidth\":0,\"ticks\":\"\"},\"colorscale\":[[0.0,\"#0d0887\"],[0.1111111111111111,\"#46039f\"],[0.2222222222222222,\"#7201a8\"],[0.3333333333333333,\"#9c179e\"],[0.4444444444444444,\"#bd3786\"],[0.5555555555555556,\"#d8576b\"],[0.6666666666666666,\"#ed7953\"],[0.7777777777777778,\"#fb9f3a\"],[0.8888888888888888,\"#fdca26\"],[1.0,\"#f0f921\"]]}],\"contourcarpet\":[{\"type\":\"contourcarpet\",\"colorbar\":{\"outlinewidth\":0,\"ticks\":\"\"}}],\"contour\":[{\"type\":\"contour\",\"colorbar\":{\"outlinewidth\":0,\"ticks\":\"\"},\"colorscale\":[[0.0,\"#0d0887\"],[0.1111111111111111,\"#46039f\"],[0.2222222222222222,\"#7201a8\"],[0.3333333333333333,\"#9c179e\"],[0.4444444444444444,\"#bd3786\"],[0.5555555555555556,\"#d8576b\"],[0.6666666666666666,\"#ed7953\"],[0.7777777777777778,\"#fb9f3a\"],[0.8888888888888888,\"#fdca26\"],[1.0,\"#f0f921\"]]}],\"surface\":[{\"type\":\"surface\",\"colorbar\":{\"outlinewidth\":0,\"ticks\":\"\"},\"colorscale\":[[0.0,\"#0d0887\"],[0.1111111111111111,\"#46039f\"],[0.2222222222222222,\"#7201a8\"],[0.3333333333333333,\"#9c179e\"],[0.4444444444444444,\"#bd3786\"],[0.5555555555555556,\"#d8576b\"],[0.6666666666666666,\"#ed7953\"],[0.7777777777777778,\"#fb9f3a\"],[0.8888888888888888,\"#fdca26\"],[1.0,\"#f0f921\"]]}],\"mesh3d\":[{\"type\":\"mesh3d\",\"colorbar\":{\"outlinewidth\":0,\"ticks\":\"\"}}],\"scatter\":[{\"fillpattern\":{\"fillmode\":\"overlay\",\"size\":10,\"solidity\":0.2},\"type\":\"scatter\"}],\"parcoords\":[{\"type\":\"parcoords\",\"line\":{\"colorbar\":{\"outlinewidth\":0,\"ticks\":\"\"}}}],\"scatterpolargl\":[{\"type\":\"scatterpolargl\",\"marker\":{\"colorbar\":{\"outlinewidth\":0,\"ticks\":\"\"}}}],\"bar\":[{\"error_x\":{\"color\":\"#2a3f5f\"},\"error_y\":{\"color\":\"#2a3f5f\"},\"marker\":{\"line\":{\"color\":\"#E5ECF6\",\"width\":0.5},\"pattern\":{\"fillmode\":\"overlay\",\"size\":10,\"solidity\":0.2}},\"type\":\"bar\"}],\"scattergeo\":[{\"type\":\"scattergeo\",\"marker\":{\"colorbar\":{\"outlinewidth\":0,\"ticks\":\"\"}}}],\"scatterpolar\":[{\"type\":\"scatterpolar\",\"marker\":{\"colorbar\":{\"outlinewidth\":0,\"ticks\":\"\"}}}],\"histogram\":[{\"marker\":{\"pattern\":{\"fillmode\":\"overlay\",\"size\":10,\"solidity\":0.2}},\"type\":\"histogram\"}],\"scattergl\":[{\"type\":\"scattergl\",\"marker\":{\"colorbar\":{\"outlinewidth\":0,\"ticks\":\"\"}}}],\"scatter3d\":[{\"type\":\"scatter3d\",\"line\":{\"colorbar\":{\"outlinewidth\":0,\"ticks\":\"\"}},\"marker\":{\"colorbar\":{\"outlinewidth\":0,\"ticks\":\"\"}}}],\"scattermapbox\":[{\"type\":\"scattermapbox\",\"marker\":{\"colorbar\":{\"outlinewidth\":0,\"ticks\":\"\"}}}],\"scatterternary\":[{\"type\":\"scatterternary\",\"marker\":{\"colorbar\":{\"outlinewidth\":0,\"ticks\":\"\"}}}],\"scattercarpet\":[{\"type\":\"scattercarpet\",\"marker\":{\"colorbar\":{\"outlinewidth\":0,\"ticks\":\"\"}}}],\"carpet\":[{\"aaxis\":{\"endlinecolor\":\"#2a3f5f\",\"gridcolor\":\"white\",\"linecolor\":\"white\",\"minorgridcolor\":\"white\",\"startlinecolor\":\"#2a3f5f\"},\"baxis\":{\"endlinecolor\":\"#2a3f5f\",\"gridcolor\":\"white\",\"linecolor\":\"white\",\"minorgridcolor\":\"white\",\"startlinecolor\":\"#2a3f5f\"},\"type\":\"carpet\"}],\"table\":[{\"cells\":{\"fill\":{\"color\":\"#EBF0F8\"},\"line\":{\"color\":\"white\"}},\"header\":{\"fill\":{\"color\":\"#C8D4E3\"},\"line\":{\"color\":\"white\"}},\"type\":\"table\"}],\"barpolar\":[{\"marker\":{\"line\":{\"color\":\"#E5ECF6\",\"width\":0.5},\"pattern\":{\"fillmode\":\"overlay\",\"size\":10,\"solidity\":0.2}},\"type\":\"barpolar\"}],\"pie\":[{\"automargin\":true,\"type\":\"pie\"}]},\"layout\":{\"autotypenumbers\":\"strict\",\"colorway\":[\"#636efa\",\"#EF553B\",\"#00cc96\",\"#ab63fa\",\"#FFA15A\",\"#19d3f3\",\"#FF6692\",\"#B6E880\",\"#FF97FF\",\"#FECB52\"],\"font\":{\"color\":\"#2a3f5f\"},\"hovermode\":\"closest\",\"hoverlabel\":{\"align\":\"left\"},\"paper_bgcolor\":\"white\",\"plot_bgcolor\":\"#E5ECF6\",\"polar\":{\"bgcolor\":\"#E5ECF6\",\"angularaxis\":{\"gridcolor\":\"white\",\"linecolor\":\"white\",\"ticks\":\"\"},\"radialaxis\":{\"gridcolor\":\"white\",\"linecolor\":\"white\",\"ticks\":\"\"}},\"ternary\":{\"bgcolor\":\"#E5ECF6\",\"aaxis\":{\"gridcolor\":\"white\",\"linecolor\":\"white\",\"ticks\":\"\"},\"baxis\":{\"gridcolor\":\"white\",\"linecolor\":\"white\",\"ticks\":\"\"},\"caxis\":{\"gridcolor\":\"white\",\"linecolor\":\"white\",\"ticks\":\"\"}},\"coloraxis\":{\"colorbar\":{\"outlinewidth\":0,\"ticks\":\"\"}},\"colorscale\":{\"sequential\":[[0.0,\"#0d0887\"],[0.1111111111111111,\"#46039f\"],[0.2222222222222222,\"#7201a8\"],[0.3333333333333333,\"#9c179e\"],[0.4444444444444444,\"#bd3786\"],[0.5555555555555556,\"#d8576b\"],[0.6666666666666666,\"#ed7953\"],[0.7777777777777778,\"#fb9f3a\"],[0.8888888888888888,\"#fdca26\"],[1.0,\"#f0f921\"]],\"sequentialminus\":[[0.0,\"#0d0887\"],[0.1111111111111111,\"#46039f\"],[0.2222222222222222,\"#7201a8\"],[0.3333333333333333,\"#9c179e\"],[0.4444444444444444,\"#bd3786\"],[0.5555555555555556,\"#d8576b\"],[0.6666666666666666,\"#ed7953\"],[0.7777777777777778,\"#fb9f3a\"],[0.8888888888888888,\"#fdca26\"],[1.0,\"#f0f921\"]],\"diverging\":[[0,\"#8e0152\"],[0.1,\"#c51b7d\"],[0.2,\"#de77ae\"],[0.3,\"#f1b6da\"],[0.4,\"#fde0ef\"],[0.5,\"#f7f7f7\"],[0.6,\"#e6f5d0\"],[0.7,\"#b8e186\"],[0.8,\"#7fbc41\"],[0.9,\"#4d9221\"],[1,\"#276419\"]]},\"xaxis\":{\"gridcolor\":\"white\",\"linecolor\":\"white\",\"ticks\":\"\",\"title\":{\"standoff\":15},\"zerolinecolor\":\"white\",\"automargin\":true,\"zerolinewidth\":2},\"yaxis\":{\"gridcolor\":\"white\",\"linecolor\":\"white\",\"ticks\":\"\",\"title\":{\"standoff\":15},\"zerolinecolor\":\"white\",\"automargin\":true,\"zerolinewidth\":2},\"scene\":{\"xaxis\":{\"backgroundcolor\":\"#E5ECF6\",\"gridcolor\":\"white\",\"linecolor\":\"white\",\"showbackground\":true,\"ticks\":\"\",\"zerolinecolor\":\"white\",\"gridwidth\":2},\"yaxis\":{\"backgroundcolor\":\"#E5ECF6\",\"gridcolor\":\"white\",\"linecolor\":\"white\",\"showbackground\":true,\"ticks\":\"\",\"zerolinecolor\":\"white\",\"gridwidth\":2},\"zaxis\":{\"backgroundcolor\":\"#E5ECF6\",\"gridcolor\":\"white\",\"linecolor\":\"white\",\"showbackground\":true,\"ticks\":\"\",\"zerolinecolor\":\"white\",\"gridwidth\":2}},\"shapedefaults\":{\"line\":{\"color\":\"#2a3f5f\"}},\"annotationdefaults\":{\"arrowcolor\":\"#2a3f5f\",\"arrowhead\":0,\"arrowwidth\":1},\"geo\":{\"bgcolor\":\"white\",\"landcolor\":\"#E5ECF6\",\"subunitcolor\":\"white\",\"showland\":true,\"showlakes\":true,\"lakecolor\":\"white\"},\"title\":{\"x\":0.05},\"mapbox\":{\"style\":\"light\"}}},\"xaxis\":{\"anchor\":\"y\",\"domain\":[0.0,1.0],\"title\":{\"text\":\"x\"}},\"yaxis\":{\"anchor\":\"x\",\"domain\":[0.0,1.0],\"title\":{\"text\":\"y\"}},\"coloraxis\":{\"colorbar\":{\"title\":{\"text\":\"score\"}},\"colorscale\":[[0.0,\"#0d0887\"],[0.1111111111111111,\"#46039f\"],[0.2222222222222222,\"#7201a8\"],[0.3333333333333333,\"#9c179e\"],[0.4444444444444444,\"#bd3786\"],[0.5555555555555556,\"#d8576b\"],[0.6666666666666666,\"#ed7953\"],[0.7777777777777778,\"#fb9f3a\"],[0.8888888888888888,\"#fdca26\"],[1.0,\"#f0f921\"]]},\"legend\":{\"tracegroupgap\":0},\"margin\":{\"t\":60}},                        {\"responsive\": true}                    ).then(function(){\n",
              "                            \n",
              "var gd = document.getElementById('00409f1d-d76b-4390-ba12-c28a737f2189');\n",
              "var x = new MutationObserver(function (mutations, observer) {{\n",
              "        var display = window.getComputedStyle(gd).display;\n",
              "        if (!display || display === 'none') {{\n",
              "            console.log([gd, 'removed!']);\n",
              "            Plotly.purge(gd);\n",
              "            observer.disconnect();\n",
              "        }}\n",
              "}});\n",
              "\n",
              "// Listen for the removal of the full notebook cells\n",
              "var notebookContainer = gd.closest('#notebook-container');\n",
              "if (notebookContainer) {{\n",
              "    x.observe(notebookContainer, {childList: true});\n",
              "}}\n",
              "\n",
              "// Listen for the clearing of the current output cell\n",
              "var outputEl = gd.closest('.output');\n",
              "if (outputEl) {{\n",
              "    x.observe(outputEl, {childList: true});\n",
              "}}\n",
              "\n",
              "                        })                };                            </script>        </div>\n",
              "</body>\n",
              "</html>"
            ]
          },
          "metadata": {}
        }
      ],
      "source": [
        "plot_embedding_space(K_heads[i1][i2], tokenizer=tokenizer, normalized=False)"
      ]
    },
    {
      "cell_type": "code",
      "source": [],
      "metadata": {
        "id": "_NrYcjEZgCX5"
      },
      "id": "_NrYcjEZgCX5",
      "execution_count": null,
      "outputs": []
    }
  ],
  "metadata": {
    "kernelspec": {
      "display_name": "Python 3",
      "name": "python3"
    },
    "language_info": {
      "codemirror_mode": {
        "name": "ipython",
        "version": 3
      },
      "file_extension": ".py",
      "mimetype": "text/x-python",
      "name": "python",
      "nbconvert_exporter": "python",
      "pygments_lexer": "ipython3",
      "version": "3.8.13"
    },
    "toc-showcode": true,
    "toc-showmarkdowntxt": true,
    "colab": {
      "provenance": [],
      "gpuType": "L4"
    },
    "accelerator": "GPU"
  },
  "nbformat": 4,
  "nbformat_minor": 5
}